{
 "cells": [
  {
   "cell_type": "code",
   "execution_count": 1,
   "id": "6081bc31-e479-44fa-95ef-8a821b00c0f6",
   "metadata": {},
   "outputs": [],
   "source": [
    "import numpy as np\n",
    "from astropy.io import fits\n",
    "import os\n",
    "import matplotlib.pyplot as plt\n",
    "from matplotlib.colors import LogNorm"
   ]
  },
  {
   "cell_type": "code",
   "execution_count": 2,
   "id": "5d75711c-4120-4737-886c-46f20ea6daf8",
   "metadata": {},
   "outputs": [
    {
     "name": "stdout",
     "output_type": "stream",
     "text": [
      "/sps/lsst/groups/auxtel/data/raw_ncsa/{0}/{1}/AT_O_{2}_{3}_R00_S00.fits\n"
     ]
    }
   ],
   "source": [
    "#image_path = '/sps/lsst/groups/auxtel/data/raw_ncsa/'+obs_date+'/'\n",
    "image_path = '/sps/lsst/groups/auxtel/data/raw_ncsa/{0}/{1}/'\n",
    "image_label = 'AT_O_{2}_{3}_R00_S00.fits'\n",
    "image_name = os.path.join(image_path,image_label)\n",
    "print(image_name)"
   ]
  },
  {
   "cell_type": "code",
   "execution_count": 3,
   "id": "3a20e83c-dfab-4779-b92d-39da069788ed",
   "metadata": {},
   "outputs": [],
   "source": [
    "list_path = 'output_lists/'\n",
    "outdir_base = 'output_fits/'\n",
    "if os.path.exists(outdir_base)==False:\n",
    "    os.mkdir(outdir_base)"
   ]
  },
  {
   "cell_type": "code",
   "execution_count": 4,
   "id": "3d5c44f9-9d11-4daf-95a0-609746bc3897",
   "metadata": {},
   "outputs": [],
   "source": [
    "bias_label = 'bias_ids_{0}.txt'\n",
    "flat_label = 'flat_ids_{0}_{1}.txt'"
   ]
  },
  {
   "cell_type": "code",
   "execution_count": 5,
   "id": "bccfe4ce-9660-42bf-832d-cee244366053",
   "metadata": {
    "tags": []
   },
   "outputs": [],
   "source": [
    "date_bias = '20220608'"
   ]
  },
  {
   "cell_type": "code",
   "execution_count": 21,
   "id": "146ce397-3a39-4b48-a3d6-3fdbc953c976",
   "metadata": {},
   "outputs": [],
   "source": [
    "filters = ['FELH0600','BG40','SDSSg']\n",
    "#filters = ['FELH0600']\n",
    "date_dict = {'SDSSg':'20220608','SDSSr':'','empty':'','BG40':'20220608','FELH0600':'20220608'}"
   ]
  },
  {
   "cell_type": "code",
   "execution_count": 7,
   "id": "956089e9-ef71-40cb-a848-c09ad6a5722b",
   "metadata": {},
   "outputs": [],
   "source": [
    "#date_flat = '20220608'"
   ]
  },
  {
   "cell_type": "code",
   "execution_count": 8,
   "id": "f7ae6e48-2518-4e19-bc3d-b45fb8114ad8",
   "metadata": {},
   "outputs": [],
   "source": [
    "calc_master_bias = True\n",
    "calc_master_flat = True"
   ]
  },
  {
   "cell_type": "code",
   "execution_count": null,
   "id": "e5e225f2-8bbf-4870-836b-cda64a326b57",
   "metadata": {},
   "outputs": [],
   "source": []
  },
  {
   "cell_type": "markdown",
   "id": "6be8aa65-b203-4f6f-8d89-f7fd70c5f215",
   "metadata": {},
   "source": [
    "# Fix detector parameters "
   ]
  },
  {
   "cell_type": "code",
   "execution_count": 9,
   "id": "d4d790f1-2403-41a5-9d74-2c53471aebfd",
   "metadata": {},
   "outputs": [],
   "source": [
    "num_segments = 16"
   ]
  },
  {
   "cell_type": "code",
   "execution_count": 10,
   "id": "9999fe04-46e8-46e5-9f91-5ff7ed148fd0",
   "metadata": {},
   "outputs": [],
   "source": [
    "segment = 0"
   ]
  },
  {
   "cell_type": "code",
   "execution_count": 11,
   "id": "5c80e37b-98d3-475b-a5ae-c21a90ae9dbe",
   "metadata": {},
   "outputs": [],
   "source": [
    "hprescan = 3\n",
    "hoverscan = 64\n",
    "voverscan = 48"
   ]
  },
  {
   "cell_type": "markdown",
   "id": "04ccbfc3-a285-4394-8993-8e370f0564bd",
   "metadata": {},
   "source": [
    "# Check that things work for flats "
   ]
  },
  {
   "cell_type": "code",
   "execution_count": 12,
   "id": "bd92627f-45a5-492f-b4bf-6359b5eefbf0",
   "metadata": {},
   "outputs": [],
   "source": [
    "filter0 = 'SDSSg'\n",
    "date0 = date_dict[filter0]"
   ]
  },
  {
   "cell_type": "code",
   "execution_count": 13,
   "id": "7647f2e1-e38d-4b9f-85b2-dd0db8dcfe2e",
   "metadata": {},
   "outputs": [
    {
     "name": "stdout",
     "output_type": "stream",
     "text": [
      "['000054', '000059', '000053', '000062', '000049', '000045', '000050', '000060', '000056', '000061', '000046', '000063', '000064', '000052', '000065', '000051', '000047', '000055', '000048', '000057', '000058']\n"
     ]
    }
   ],
   "source": [
    "flat_ids_file0 = open(os.path.join(list_path,flat_label.format(date0,filter0))).readlines()\n",
    "flat_ids0 = []\n",
    "for line in flat_ids_file0:\n",
    "    #print(line)\n",
    "    flat_ids0.append(line.split('\\n')[0])\n",
    "print(flat_ids0)"
   ]
  },
  {
   "cell_type": "code",
   "execution_count": 14,
   "id": "fca427e5-a7b6-43bc-9fd4-694af12d5c67",
   "metadata": {},
   "outputs": [
    {
     "data": {
      "image/png": "[encoded data removed]",
      "text/plain": [
       "<Figure size 720x720 with 1 Axes>"
      ]
     },
     "metadata": {
      "needs_background": "light"
     },
     "output_type": "display_data"
    }
   ],
   "source": [
    "f0 = fits.open(image_name.format(date0,flat_ids0[0],date0,flat_ids0[0]))\n",
    "assert (f0[0].header['IMGTYPE']=='FLAT')\n",
    "data0 = f0[16].data\n",
    "fig = plt.figure(figsize=(10,10))\n",
    "ax=fig.add_subplot(111)\n",
    "\n",
    "ax.imshow(data0,cmap=\"gray\",norm=LogNorm())\n",
    "plt.show()"
   ]
  },
  {
   "cell_type": "code",
   "execution_count": 15,
   "id": "8f74918d-ed75-4635-879a-e7ed4e4630ca",
   "metadata": {},
   "outputs": [
    {
     "name": "stdout",
     "output_type": "stream",
     "text": [
      "[14950 14040 14805 80641 79884 79909 80678 79752 79911 80025 80294 80606\n",
      " 80601 79956 79983 79892 80029 80426 80528 80907]\n",
      "70390.85\n",
      "[14954 14044 14766 14955 14927 14979 14927 14954 14969 14946 14968 14933\n",
      " 14980 14945 14963 14954 14955 14966 14947 14965]\n",
      "14899.85\n"
     ]
    }
   ],
   "source": [
    "print(data0[1500,:][:20])\n",
    "print(np.mean(data0[1500,:][:20]))\n",
    "print(data0[2001,:][:20])\n",
    "print(np.mean(data0[2001,:][:20]))"
   ]
  },
  {
   "cell_type": "code",
   "execution_count": 16,
   "id": "a84580af-bd87-4afd-a642-14c41efcdeab",
   "metadata": {},
   "outputs": [
    {
     "data": {
      "text/plain": [
       "1179648"
      ]
     },
     "execution_count": 16,
     "metadata": {},
     "output_type": "execute_result"
    }
   ],
   "source": [
    "len(data0.ravel())"
   ]
  },
  {
   "cell_type": "code",
   "execution_count": 17,
   "id": "bb0e06d7-a3c2-40de-b791-41d4470681a2",
   "metadata": {},
   "outputs": [],
   "source": [
    "mu = np.average(data0.ravel())\n",
    "std = np.std(data0.ravel())"
   ]
  },
  {
   "cell_type": "code",
   "execution_count": null,
   "id": "34e8b9ca-5f49-4731-8b68-a8a92ed2fcad",
   "metadata": {},
   "outputs": [],
   "source": []
  },
  {
   "cell_type": "code",
   "execution_count": null,
   "id": "d2340467-b8d6-4569-b111-8add9de9a9d4",
   "metadata": {},
   "outputs": [],
   "source": []
  },
  {
   "cell_type": "markdown",
   "id": "ac6bc6f6-2f07-4337-a815-3a2224798813",
   "metadata": {},
   "source": [
    "# Create master (median) bias from individual biases "
   ]
  },
  {
   "cell_type": "code",
   "execution_count": 18,
   "id": "1d465ff7-b1a9-4d2e-82c4-e97f7279f8c3",
   "metadata": {},
   "outputs": [
    {
     "name": "stdout",
     "output_type": "stream",
     "text": [
      "['000123' '000112' '000017' '000133' '000016' '000009' '000117' '000114'\n",
      " '000118' '000121' '000007' '000018' '000010' '000024' '000109' '000119'\n",
      " '000134' '000126' '000011' '000127' '000015' '000135' '000108' '000023'\n",
      " '000136' '000131' '000128' '000008' '000122' '000012' '000130' '000022'\n",
      " '000005' '000132' '000124' '000137' '000120' '000013' '000125' '000014'\n",
      " '000113' '000110' '000020' '000001' '000111' '000115' '000019' '000021'\n",
      " '000006' '000129']\n"
     ]
    }
   ],
   "source": [
    "if calc_master_bias==True:\n",
    "    bias_ids_file = open(os.path.join(list_path,bias_label.format(date_bias))).readlines()\n",
    "    bias_ids = []\n",
    "    for line in bias_ids_file:\n",
    "        bias_ids.append(line.split('\\n')[0])\n",
    "    bias_ids = np.array(bias_ids)\n",
    "    print(bias_ids)\n",
    "    \n",
    "    new_hdul = fits.HDUList()\n",
    "    hdu1 = fits.PrimaryHDU()\n",
    "    for seg in range(num_segments):\n",
    "        bias_list = []\n",
    "        #print(seg)\n",
    "        hdu2 = fits.ImageHDU()\n",
    "        for num,i in enumerate(bias_ids):\n",
    "            image_file = image_name.format(date_bias,str(i),date_bias,str(i))\n",
    "            f = fits.open(image_file)\n",
    "            assert (f[0].header['IMGTYPE']=='BIAS')\n",
    "            #print('Exposure time = ', f[0].header['EXPTIME'])\n",
    "            if num == 0 and seg == 0:\n",
    "                hdu1.header = f[0].header\n",
    "                hdu1.header['PIXSTAT'] = 'Median'\n",
    "                hdu1.header['IMGRANGE'] = (int(np.min(bias_ids.astype('float'))),int(np.max(bias_ids.astype('float'))))\n",
    "                hdu1.data = f[0].data\n",
    "                new_hdul.append(hdu1) \n",
    "            data = f[num_segments-seg].data\n",
    "            #print(data.shape)\n",
    "            bias_list.append(data)\n",
    "            f.close()\n",
    "        bias_array = np.array(bias_list)\n",
    "        print(bias_array.shape)\n",
    "        median_bias = np.median(bias_array,axis=0)\n",
    "        print(median_bias.shape)\n",
    "        hdu2.header = f[num_segments-seg].header\n",
    "        hdu2.data = median_bias\n",
    "        new_hdul.append(hdu2)\n",
    "        print('----------')\n",
    "    print(len(new_hdul))\n",
    "    outdir_bias = os.path.join(outdir_base,date_bias+'_run/')\n",
    "    if os.path.exists(outdir_bias)==False:\n",
    "        os.mkdir(outdir_bias)\n",
    "    new_hdul.writeto(outdir_bias+'master_bias_median_{0}_{1}_{2}.fits'.format(date_bias,int(np.min(bias_ids.astype('float'))),int(np.max(bias_ids.astype('float')))), overwrite=True)\n",
    "else:\n",
    "    bias_ids_file = open(os.path.join(list_path,bias_label.format(date_bias))).readlines()\n",
    "    bias_ids = []\n",
    "    for line in bias_ids_file:\n",
    "        bias_ids.append(line.split('\\n')[0])\n",
    "    bias_ids = np.array(bias_ids)\n",
    "    print(bias_ids)\n",
    "    outdir_bias = os.path.join(outdir_base,date_bias+'_run/')\n",
    "    if os.path.exists(outdir_bias)==False:\n",
    "        os.mkdir(outdir_bias)"
   ]
  },
  {
   "cell_type": "code",
   "execution_count": null,
   "id": "7c70fb05-b28a-4108-9672-27cad9a7ba47",
   "metadata": {},
   "outputs": [],
   "source": []
  },
  {
   "cell_type": "code",
   "execution_count": null,
   "id": "870fe7e4-9599-490a-be2e-893b868c287b",
   "metadata": {},
   "outputs": [],
   "source": []
  },
  {
   "cell_type": "code",
   "execution_count": 19,
   "id": "df7d2780-0fbc-44f1-80e5-49975ea8d74e",
   "metadata": {},
   "outputs": [],
   "source": [
    "try:\n",
    "    master_bias = fits.open(outdir_bias+'master_bias_median_{0}_{1}_{2}.fits'.format(date_bias,int(np.min(bias_ids.astype('float'))),int(np.max(bias_ids.astype('float')))))\n",
    "except:\n",
    "    print('No master bias found. Create it before continuing')"
   ]
  },
  {
   "cell_type": "markdown",
   "id": "47045388-acda-49fa-8653-7ed1a58c8dec",
   "metadata": {},
   "source": [
    "# Loop over filters and over CCD segments to create master (median) flats "
   ]
  },
  {
   "cell_type": "code",
   "execution_count": 20,
   "id": "1e3e0ecc-a6e4-4857-918e-64d9fa0d8e1c",
   "metadata": {},
   "outputs": [
    {
     "name": "stdout",
     "output_type": "stream",
     "text": [
      "#######################################FELH0600\n",
      "['000156' '000159' '000094' '000095' '000089' '000093' '000155' '000092'\n",
      " '000099' '000090' '000091' '000098' '000096' '000107' '000166' '000161'\n",
      " '000158' '000154' '000105' '000153' '000102' '000162' '000167' '000160'\n",
      " '000103' '000157' '000164' '000104' '000101' '000097' '000087' '000106'\n",
      " '000100' '000163' '000088' '000165']\n",
      "#######################################BG40\n",
      "['000069' '000070' '000080' '000077' '000082' '000075' '000083' '000067'\n",
      " '000078' '000074' '000081' '000066' '000086' '000068' '000076' '000071'\n",
      " '000072' '000084' '000085' '000073' '000079']\n",
      "#######################################SDSSg\n",
      "['000054' '000059' '000053' '000062' '000049' '000045' '000050' '000060'\n",
      " '000056' '000061' '000046' '000063' '000064' '000052' '000065' '000051'\n",
      " '000047' '000055' '000048' '000057' '000058']\n"
     ]
    },
    {
     "ename": "KeyboardInterrupt",
     "evalue": "",
     "output_type": "error",
     "traceback": [
      "\u001b[0;31m---------------------------------------------------------------------------\u001b[0m",
      "\u001b[0;31mKeyboardInterrupt\u001b[0m                         Traceback (most recent call last)",
      "\u001b[0;32m/tmp/ipykernel_5548/2604349318.py\u001b[0m in \u001b[0;36m<module>\u001b[0;34m\u001b[0m\n\u001b[1;32m     30\u001b[0m                     \u001b[0mdata0\u001b[0m \u001b[0;34m=\u001b[0m \u001b[0mdata_\u001b[0m\u001b[0;34m\u001b[0m\u001b[0;34m\u001b[0m\u001b[0m\n\u001b[1;32m     31\u001b[0m                 \u001b[0;32melse\u001b[0m\u001b[0;34m:\u001b[0m\u001b[0;34m\u001b[0m\u001b[0;34m\u001b[0m\u001b[0m\n\u001b[0;32m---> 32\u001b[0;31m                     \u001b[0mdata0\u001b[0m \u001b[0;34m=\u001b[0m \u001b[0mnp\u001b[0m\u001b[0;34m.\u001b[0m\u001b[0mconcatenate\u001b[0m\u001b[0;34m(\u001b[0m\u001b[0;34m(\u001b[0m\u001b[0mdata0\u001b[0m\u001b[0;34m,\u001b[0m\u001b[0mdata_\u001b[0m\u001b[0;34m)\u001b[0m\u001b[0;34m,\u001b[0m\u001b[0maxis\u001b[0m\u001b[0;34m=\u001b[0m\u001b[0;36m1\u001b[0m\u001b[0;34m)\u001b[0m\u001b[0;34m\u001b[0m\u001b[0;34m\u001b[0m\u001b[0m\n\u001b[0m\u001b[1;32m     33\u001b[0m             \u001b[0;32mfor\u001b[0m \u001b[0mseg\u001b[0m \u001b[0;32min\u001b[0m \u001b[0mrange\u001b[0m\u001b[0;34m(\u001b[0m\u001b[0;36m9\u001b[0m\u001b[0;34m,\u001b[0m\u001b[0mnum_segments\u001b[0m\u001b[0;34m+\u001b[0m\u001b[0;36m1\u001b[0m\u001b[0;34m)\u001b[0m\u001b[0;34m:\u001b[0m\u001b[0;34m\u001b[0m\u001b[0;34m\u001b[0m\u001b[0m\n\u001b[1;32m     34\u001b[0m                 \u001b[0mseg\u001b[0m \u001b[0;34m=\u001b[0m \u001b[0mnum_segments\u001b[0m\u001b[0;34m+\u001b[0m\u001b[0;36m9\u001b[0m\u001b[0;34m-\u001b[0m\u001b[0mseg\u001b[0m\u001b[0;34m\u001b[0m\u001b[0;34m\u001b[0m\u001b[0m\n",
      "\u001b[0;32m<__array_function__ internals>\u001b[0m in \u001b[0;36mconcatenate\u001b[0;34m(*args, **kwargs)\u001b[0m\n",
      "\u001b[0;31mKeyboardInterrupt\u001b[0m: "
     ]
    }
   ],
   "source": [
    "if calc_master_flat==True:\n",
    "    flat_ids_dict = {}\n",
    "    for filter in filters:\n",
    "        date_flat = date_dict[filter]\n",
    "        flat_ids_file = open(os.path.join(list_path,flat_label.format(date_flat,filter))).readlines()\n",
    "        flat_ids_ = []\n",
    "        for line in flat_ids_file:\n",
    "            flat_ids_.append(line.split('\\n')[0])\n",
    "        flat_ids_ = np.array(flat_ids_)\n",
    "        flat_ids_dict[filter] = flat_ids_\n",
    "    \n",
    "    median_dict = {}\n",
    "    for filter in filters:\n",
    "        print('#######################################'+filter)\n",
    "        #data_array = np.array([])\n",
    "        #data_list = []\n",
    "        flat_ids = flat_ids_dict[filter]\n",
    "        print(flat_ids)\n",
    "        for i in flat_ids:\n",
    "            #print(i)\n",
    "            image_file = image_name.format(date_dict[filter],str(i),date_dict[filter],str(i))\n",
    "            f = fits.open(image_file)\n",
    "            shape0 = f[1].data.shape\n",
    "        \n",
    "            for seg in range(1,9):\n",
    "                #print(seg,f[seg].header['EXTNAME'])\n",
    "                data_ = f[seg].data[:shape0[0]-voverscan,hprescan:shape0[1]-hoverscan]-master_bias[seg].data[:shape0[0]-voverscan,hprescan:shape0[1]-hoverscan]\n",
    "                data_ = np.flip(data_,axis=1)\n",
    "                if seg==1:\n",
    "                    data0 = data_\n",
    "                else:\n",
    "                    data0 = np.concatenate((data0,data_),axis=1)\n",
    "            for seg in range(9,num_segments+1):\n",
    "                seg = num_segments+9-seg\n",
    "                #print(seg,f[seg].header['EXTNAME'])\n",
    "                data_ = f[seg].data[:shape0[0]-voverscan,hprescan:shape0[1]-hoverscan]-master_bias[seg].data[:shape0[0]-voverscan,hprescan:shape0[1]-hoverscan]\n",
    "                data_ = np.flip(data_,axis=0)\n",
    "                data_ = np.flip(data_,axis=1)\n",
    "                if seg==16:\n",
    "                    data1 = data_\n",
    "                else:\n",
    "                    data1 = np.concatenate((data1,data_),axis=1)\n",
    "            data_ccd = np.concatenate((data0,data1),axis=0)\n",
    "            median_dict[(filter,i)] = np.median(data_ccd)\n",
    "        "
   ]
  },
  {
   "cell_type": "code",
   "execution_count": null,
   "id": "62187efa-33fe-4716-886b-f520a314d937",
   "metadata": {},
   "outputs": [],
   "source": []
  },
  {
   "cell_type": "code",
   "execution_count": 23,
   "id": "8a2f8279-ef63-4d5c-8b32-be0e8c65f76c",
   "metadata": {},
   "outputs": [
    {
     "name": "stdout",
     "output_type": "stream",
     "text": [
      "#######################################FELH0600\n",
      "(36, 2048, 576)\n",
      "(2048, 576)\n",
      "----------\n",
      "(36, 2048, 576)\n",
      "(2048, 576)\n",
      "----------\n",
      "(36, 2048, 576)\n",
      "(2048, 576)\n",
      "----------\n",
      "(36, 2048, 576)\n",
      "(2048, 576)\n",
      "----------\n",
      "(36, 2048, 576)\n",
      "(2048, 576)\n",
      "----------\n",
      "(36, 2048, 576)\n",
      "(2048, 576)\n",
      "----------\n",
      "(36, 2048, 576)\n",
      "(2048, 576)\n",
      "----------\n",
      "(36, 2048, 576)\n",
      "(2048, 576)\n",
      "----------\n",
      "(36, 2048, 576)\n",
      "(2048, 576)\n",
      "----------\n",
      "(36, 2048, 576)\n",
      "(2048, 576)\n",
      "----------\n",
      "(36, 2048, 576)\n",
      "(2048, 576)\n",
      "----------\n",
      "(36, 2048, 576)\n",
      "(2048, 576)\n",
      "----------\n",
      "(36, 2048, 576)\n",
      "(2048, 576)\n",
      "----------\n",
      "(36, 2048, 576)\n",
      "(2048, 576)\n",
      "----------\n",
      "(36, 2048, 576)\n",
      "(2048, 576)\n",
      "----------\n",
      "(36, 2048, 576)\n",
      "(2048, 576)\n",
      "----------\n",
      "17\n"
     ]
    }
   ],
   "source": [
    "if calc_master_flat==True:\n",
    "    for filter in filters:\n",
    "        print('#######################################'+filter)\n",
    "        #flat_list = []\n",
    "        date_flat = date_dict[filter]\n",
    "        flat_ids = flat_ids_dict[filter]\n",
    "        \n",
    "        new_hdul = fits.HDUList()\n",
    "        hdu1 = fits.PrimaryHDU()\n",
    "        for seg in range(num_segments):\n",
    "            flat_list = []\n",
    "            hdu2 = fits.ImageHDU()\n",
    "            for num,i in enumerate(flat_ids):\n",
    "                image_file = image_name.format(date_dict[filter],str(i),date_dict[filter],str(i))\n",
    "                f = fits.open(image_file)\n",
    "                assert (f[0].header['IMGTYPE']=='FLAT')\n",
    "                if num == 0 and seg == 0:\n",
    "                    hdu1.header = f[0].header\n",
    "                    hdu1.header['PROCESS'] = 'Flat-Master_bias'\n",
    "                    hdu1.header['PIXSTAT'] = 'Median'\n",
    "                    hdu1.header['IMGRANGE'] = (int(np.min(flat_ids.astype('float'))),int(np.max(flat_ids.astype('float'))))\n",
    "                    hdu1.data = f[0].data\n",
    "                    new_hdul.append(hdu1)\n",
    "                data_i = f[num_segments-seg].data \n",
    "                data_i_bias = np.zeros(data_i.shape)\n",
    "                data_i_bias[shape0[0]-voverscan:,:] = data_i[shape0[0]-voverscan:,:]\n",
    "                data_i_bias[:,:hprescan] = data_i[:,:hprescan]\n",
    "                data_i_bias[:,shape0[1]-hoverscan:] = data_i[:,shape0[1]-hoverscan:]\n",
    "                data_i_bias[:shape0[0]-voverscan,hprescan:shape0[1]-hoverscan] = data_i[:shape0[0]-voverscan,hprescan:shape0[1]-hoverscan]-master_bias[num_segments-seg].data[:shape0[0]-voverscan,hprescan:shape0[1]-hoverscan]\n",
    "                data_i_norm = np.zeros(data_i_bias.shape)\n",
    "                data_i_norm[shape0[0]-voverscan:,:] = data_i[shape0[0]-voverscan:,:]\n",
    "                data_i_norm[:,:hprescan] = data_i[:,:hprescan]\n",
    "                data_i_norm[:,shape0[1]-hoverscan:] = data_i[:,shape0[1]-hoverscan:]\n",
    "                data_i_norm[:shape0[0]-voverscan,hprescan:shape0[1]-hoverscan] = data_i_bias[:shape0[0]-voverscan,hprescan:shape0[1]-hoverscan]/median_dict[(filter,i)]\n",
    "                \n",
    "                flat_list.append(data_i_norm)\n",
    "                f.close()\n",
    "            flat_array = np.array(flat_list)\n",
    "            print(flat_array.shape)\n",
    "            median_flat = np.median(flat_array,axis=0)\n",
    "            print(median_flat.shape)\n",
    "            hdu2.header = f[num_segments-seg].header\n",
    "            hdu2.data = median_flat\n",
    "            new_hdul.append(hdu2)\n",
    "            print('----------')\n",
    "        print(len(new_hdul))\n",
    "        outdir_flat = os.path.join(outdir_base,date_flat+'_run/')\n",
    "        if os.path.exists(outdir_flat)==False:\n",
    "            os.mkdir(outdir_flat)\n",
    "        new_hdul.writeto(outdir_flat+'master_flat_median_{0}_{1}_{2}_{3}_renormalised.fits'.format(date_flat,filter,int(np.min(flat_ids.astype('float'))),int(np.max(flat_ids.astype('float')))), overwrite=True)\n"
   ]
  },
  {
   "cell_type": "code",
   "execution_count": null,
   "id": "de19e053-5cb8-4be8-aa92-757fb77a16f4",
   "metadata": {},
   "outputs": [],
   "source": []
  },
  {
   "cell_type": "code",
   "execution_count": null,
   "id": "c894c6d1-ab2c-4d1d-8619-838a0d91e6a4",
   "metadata": {},
   "outputs": [],
   "source": []
  },
  {
   "cell_type": "markdown",
   "id": "0cea0e3b-d8b1-479c-94e7-1f16d27e470e",
   "metadata": {},
   "source": [
    "# TESTS "
   ]
  },
  {
   "cell_type": "code",
   "execution_count": null,
   "id": "ec36f083-3107-4324-896c-8b158da55835",
   "metadata": {},
   "outputs": [],
   "source": [
    "fred = fits.open(outdir_flat+'master_flat_median_20220608_SDSSg_45_65_renormalised.fits')\n",
    "fred.info()"
   ]
  },
  {
   "cell_type": "code",
   "execution_count": null,
   "id": "a7e8a62e-cfdf-412d-981e-d7d6ce5362a1",
   "metadata": {},
   "outputs": [],
   "source": [
    "shape0 = fred[1].data.shape\n",
    "print(shape0)"
   ]
  },
  {
   "cell_type": "code",
   "execution_count": null,
   "id": "c33a9f40-9d7e-44ba-9365-314127e363a0",
   "metadata": {},
   "outputs": [],
   "source": [
    "for seg in range(1,9):\n",
    "    print(seg,fred[seg].header['EXTNAME'])\n",
    "    data_ = fred[seg].data[:shape0[0]-voverscan,hprescan:shape0[1]-hoverscan]\n",
    "    data_ = np.flip(data_,axis=1)\n",
    "    if seg==1:\n",
    "        dred0 = data_\n",
    "    else:\n",
    "        dred0 = np.concatenate((dred0,data_),axis=1)\n",
    "for seg in range(9,num_segments+1):\n",
    "    seg = num_segments+9-seg\n",
    "    print(seg,fred[seg].header['EXTNAME'])\n",
    "    data_ = fred[seg].data[:shape0[0]-voverscan,hprescan:shape0[1]-hoverscan]\n",
    "    data_ = np.flip(data_,axis=0)\n",
    "    data_ = np.flip(data_,axis=1)\n",
    "    if seg==16:\n",
    "        dred1 = data_\n",
    "    else:\n",
    "        dred1 = np.concatenate((dred1,data_),axis=1)\n",
    "data0red = np.concatenate((dred0,dred1),axis=0)"
   ]
  },
  {
   "cell_type": "code",
   "execution_count": null,
   "id": "279e7872-554b-462b-bff3-7ea72162fac7",
   "metadata": {},
   "outputs": [],
   "source": []
  },
  {
   "cell_type": "code",
   "execution_count": null,
   "id": "6af3bb11-aaa3-46b9-893e-92f81171a47b",
   "metadata": {},
   "outputs": [],
   "source": [
    "plt.hist(data0red.ravel(),bins=100,range=(0.8,1.2))"
   ]
  },
  {
   "cell_type": "code",
   "execution_count": null,
   "id": "4347f821-8e1d-4c34-a09e-2b686a050553",
   "metadata": {},
   "outputs": [],
   "source": [
    "data0red[200,400:410]"
   ]
  },
  {
   "cell_type": "code",
   "execution_count": null,
   "id": "da7c0c51-1c24-44ae-8af5-3d29366e1b63",
   "metadata": {},
   "outputs": [],
   "source": [
    "fig = plt.figure(figsize=(10,10))\n",
    "ax=fig.add_subplot(111)\n",
    "ax.imshow(data0red,cmap=\"gray\",vmin=0.8,vmax=1.2)#,norm=LogNorm())fig = plt.figure(figsize=(10,10))\n",
    "ax=fig.add_subplot(111)\n",
    "ax.imshow(data0red,cmap=\"gray\",vmin=0.8,vmax=1.2)#,norm=LogNorm())"
   ]
  },
  {
   "cell_type": "code",
   "execution_count": null,
   "id": "dbd092b1-a6b4-4a23-8f76-d686d5a0eb82",
   "metadata": {},
   "outputs": [],
   "source": [
    "np.median(data0red.ravel())"
   ]
  },
  {
   "cell_type": "code",
   "execution_count": null,
   "id": "ec21c80e-d814-40c4-9d6c-76c346c827bd",
   "metadata": {},
   "outputs": [],
   "source": [
    "print(np.min(data0red.ravel()),np.max(data0red.ravel()))"
   ]
  },
  {
   "cell_type": "code",
   "execution_count": null,
   "id": "b4edb39c-a8a0-48f7-b533-944629a8d035",
   "metadata": {},
   "outputs": [],
   "source": [
    "median_vec = []\n",
    "for seg in range(1,num_segments+1):\n",
    "    data_ = fred[seg].data[:shape0[0]-voverscan,hprescan:shape0[1]-hoverscan]\n",
    "    plt.hist(data_.ravel(),bins=100,range=(0.95,1.05),histtype='step')\n",
    "    median_vec.append(np.median(data_.ravel()))\n",
    "plt.grid()"
   ]
  },
  {
   "cell_type": "code",
   "execution_count": null,
   "id": "830b1617-2159-4e1d-819d-28f6cb2ed4fb",
   "metadata": {},
   "outputs": [],
   "source": [
    "median_vec = np.array(median_vec)\n",
    "plt.plot(np.arange(num_segments),median_vec)\n",
    "plt.grid()"
   ]
  },
  {
   "cell_type": "code",
   "execution_count": null,
   "id": "ea031506-56dd-421b-948b-0d45fd6b4ce6",
   "metadata": {},
   "outputs": [],
   "source": []
  }
 ],
 "metadata": {
  "kernelspec": {
   "display_name": "lsst_distrib_w_2021_44",
   "language": "python",
   "name": "lsst_distrib0"
  },
  "language_info": {
   "codemirror_mode": {
    "name": "ipython",
    "version": 3
   },
   "file_extension": ".py",
   "mimetype": "text/x-python",
   "name": "python",
   "nbconvert_exporter": "python",
   "pygments_lexer": "ipython3",
   "version": "3.8.8"
  }
 },
 "nbformat": 4,
 "nbformat_minor": 5
}

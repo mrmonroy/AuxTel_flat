{
 "cells": [
  {
   "cell_type": "code",
   "execution_count": 1,
   "id": "115e6059-5fa7-47f3-8bba-7ddaae886d3e",
   "metadata": {},
   "outputs": [],
   "source": [
    "import numpy as np\n",
    "from astropy.io import fits\n",
    "import matplotlib.pyplot as plt\n",
    "from matplotlib.colors import LogNorm\n",
    "from scipy.stats import gaussian_kde\n",
    "import scipy.ndimage as ndimage\n",
    "from matplotlib import cm\n",
    "from matplotlib.colors import Normalize \n",
    "from scipy.interpolate import interpn\n",
    "import os"
   ]
  },
  {
   "cell_type": "code",
   "execution_count": 2,
   "id": "6b43101a-f549-44df-a719-3d5f77ed1476",
   "metadata": {},
   "outputs": [],
   "source": [
    "indir_flats = '../output_fits/{0}_run/'"
   ]
  },
  {
   "cell_type": "code",
   "execution_count": 3,
   "id": "6732d5bb-1936-4433-a60d-6ae1f45f69b8",
   "metadata": {},
   "outputs": [],
   "source": [
    "filters = ['FELH0600','BG40','SDSSg']\n",
    "date_dict = {'SDSSg':'20220608','SDSSr':'','empty':'','BG40':'20220608','FELH0600':'20220608'}"
   ]
  },
  {
   "cell_type": "code",
   "execution_count": 4,
   "id": "af787028-6be2-4b6e-9e39-7a00e4d8e3b4",
   "metadata": {},
   "outputs": [
    {
     "name": "stdout",
     "output_type": "stream",
     "text": [
      "{'FELH0600': '../output_fits/20220608_run/', 'BG40': '../output_fits/20220608_run/', 'SDSSg': '../output_fits/20220608_run/'}\n",
      "{'FELH0600': 'master_flat_median_20220608_FELH0600_87_167_renormalised.fits', 'BG40': 'master_flat_median_20220608_BG40_66_86_renormalised.fits', 'SDSSg': 'master_flat_median_20220608_SDSSg_45_65_renormalised.fits'}\n"
     ]
    }
   ],
   "source": [
    "indir_dict = {}\n",
    "for filter in filters:\n",
    "    indir_dict[filter] = '../output_fits/{0}_run/'.format(date_dict[filter])\n",
    "print(indir_dict)\n",
    "\n",
    "filter_files = {}\n",
    "for filter in filters:\n",
    "    filter_files[filter] = [f for f in os.listdir(indir_flats.format(date_dict[filter])) if 'master_flat_median_{0}_{1}'.format(date_dict[filter],filter) in f and '_renormalised.fits' in f and 'ratio' not in f][0]\n",
    "print(filter_files)"
   ]
  },
  {
   "cell_type": "code",
   "execution_count": 5,
   "id": "80a3f375-ea86-4107-9b8b-ca89a70a6d0f",
   "metadata": {},
   "outputs": [],
   "source": [
    "filter1 = 'FELH0600' # Redder filter \n",
    "filter2 = 'BG40' # Bluer filter "
   ]
  },
  {
   "cell_type": "code",
   "execution_count": 16,
   "id": "42d2e680-db35-46bb-b4a4-120b26ffffb2",
   "metadata": {},
   "outputs": [],
   "source": [
    "if indir_dict[filter1]!=indir_dict[filter2]:\n",
    "    print('Attention: saving ratio fits files in {0} directory'.format(filter1))\n",
    "output_dir_fits = indir_dict[filter1]"
   ]
  },
  {
   "cell_type": "code",
   "execution_count": 6,
   "id": "819ee276-5b9f-46e3-818e-51879e2a6172",
   "metadata": {},
   "outputs": [],
   "source": [
    "fred = fits.open(indir_dict[filter1]+filter_files[filter1])\n",
    "fblue = fits.open(indir_dict[filter2]+filter_files[filter2])"
   ]
  },
  {
   "cell_type": "code",
   "execution_count": 8,
   "id": "ced2667f-9fdc-496c-88f0-10d1d9802651",
   "metadata": {},
   "outputs": [],
   "source": [
    "num_segments = 16\n",
    "shape0 = fred[1].data.shape\n",
    "hprescan = 3\n",
    "hoverscan = 64\n",
    "voverscan = 48"
   ]
  },
  {
   "cell_type": "markdown",
   "id": "f0755a53-facf-4d68-943b-4c0dc2242423",
   "metadata": {},
   "source": [
    "# Ratio of median filters (no smoothing) "
   ]
  },
  {
   "cell_type": "code",
   "execution_count": 9,
   "id": "b6629ee1-096a-428e-8e1f-6c3c3cf8fccb",
   "metadata": {},
   "outputs": [
    {
     "name": "stdout",
     "output_type": "stream",
     "text": [
      "Segment00 Segment00\n",
      "Segment01 Segment01\n",
      "Segment02 Segment02\n",
      "Segment03 Segment03\n",
      "Segment04 Segment04\n",
      "Segment05 Segment05\n",
      "Segment06 Segment06\n",
      "Segment07 Segment07\n",
      "Segment17 Segment17\n",
      "Segment16 Segment16\n",
      "Segment15 Segment15\n",
      "Segment14 Segment14\n",
      "Segment13 Segment13\n",
      "Segment12 Segment12\n",
      "Segment11 Segment11\n",
      "Segment10 Segment10\n"
     ]
    }
   ],
   "source": [
    "for seg in range(1,num_segments+1):\n",
    "    print(fred[seg].header['EXTNAME'], fblue[seg].header['EXTNAME'])\n",
    "    assert (fred[seg].header['EXTNAME']==fblue[seg].header['EXTNAME'])"
   ]
  },
  {
   "cell_type": "code",
   "execution_count": 10,
   "id": "f9cd8b2b-81cb-47ea-be6c-bd6fdf8b61f4",
   "metadata": {},
   "outputs": [
    {
     "name": "stdout",
     "output_type": "stream",
     "text": [
      "1\n",
      "----------\n",
      "2\n",
      "----------\n",
      "3\n",
      "----------\n",
      "4\n",
      "----------\n",
      "5\n",
      "----------\n",
      "6\n",
      "----------\n",
      "7\n",
      "----------\n",
      "8\n",
      "----------\n",
      "9\n",
      "----------\n",
      "10\n",
      "----------\n",
      "11\n",
      "----------\n",
      "12\n",
      "----------\n",
      "13\n",
      "----------\n",
      "14\n",
      "----------\n",
      "15\n",
      "----------\n",
      "16\n",
      "----------\n"
     ]
    }
   ],
   "source": [
    "new_hdul = fits.HDUList()\n",
    "hdu1 = fits.PrimaryHDU()\n",
    "hdu1.header = fred[0].header\n",
    "hdu1.header['PROCESS'] = 'Ratio-Smooth-Master-Flat'\n",
    "hdu1.data = fred[0].data\n",
    "new_hdul.append(hdu1)\n",
    "\n",
    "for seg in range(1,num_segments+1):\n",
    "    print(seg)\n",
    "    hdu2 = fits.ImageHDU()\n",
    "    red_seg = fred[seg].data\n",
    "    blue_seg = fblue[seg].data\n",
    "    \n",
    "    seg_ratio = np.zeros(red_seg.shape)\n",
    "    \n",
    "    seg_ratio[shape0[0]-voverscan:,:] = red_seg[shape0[0]-voverscan:,:]\n",
    "    seg_ratio[:,:hprescan] = red_seg[:,:hprescan]\n",
    "    seg_ratio[:,shape0[1]-hoverscan:] = red_seg[:,shape0[1]-hoverscan:]\n",
    "    \n",
    "    data_red = red_seg[:shape0[0]-voverscan,hprescan:shape0[1]-hoverscan]\n",
    "    data_blue = blue_seg[:shape0[0]-voverscan,hprescan:shape0[1]-hoverscan]\n",
    "    ratio = data_red/data_blue\n",
    "    \n",
    "    seg_ratio[:shape0[0]-voverscan,hprescan:shape0[1]-hoverscan] = ratio\n",
    "    \n",
    "    hdu2.header = fred[seg].header\n",
    "    hdu2.data = seg_ratio\n",
    "    new_hdul.append(hdu2)\n",
    "    print('----------')\n",
    "    \n",
    "new_hdul.writeto(output_dir_fits+'ratio_master_flat_median_{0}_{1}_{2}_{3}_renormalised.fits'.format(filter1,date_dict[filter1],filter2,date_dict[filter2]), overwrite=True)"
   ]
  },
  {
   "cell_type": "code",
   "execution_count": null,
   "id": "afe920de-5157-41c5-a38a-e4819dbbab28",
   "metadata": {},
   "outputs": [],
   "source": []
  },
  {
   "cell_type": "markdown",
   "id": "3c8bd62e-10c9-4702-8a9c-20d690f114fe",
   "metadata": {},
   "source": [
    "# Ratio of master flats with smooth component removed (high frequency master flats) "
   ]
  },
  {
   "cell_type": "code",
   "execution_count": 10,
   "id": "afe75bfd-6975-4631-bdc8-0ce0997243bb",
   "metadata": {},
   "outputs": [
    {
     "name": "stdout",
     "output_type": "stream",
     "text": [
      "{'FELH0600': 'master_flat_median_20220608_FELH0600_87_167_renormalised_high_frequency.fits', 'BG40': 'master_flat_median_20220608_BG40_66_86_renormalised_high_frequency.fits', 'SDSSg': 'master_flat_median_20220608_SDSSg_45_65_renormalised_high_frequency.fits'}\n"
     ]
    }
   ],
   "source": [
    "filter_files_hf = {}\n",
    "for filter in filters:\n",
    "    filter_files_hf[filter] = [f for f in os.listdir(indir_flats.format(date_dict[filter])) if 'master_flat_median_{0}_{1}'.format(date_dict[filter],filter) in f and '_renormalised_high_frequency.fits' in f and 'ratio' not in f][0]\n",
    "print(filter_files_hf)"
   ]
  },
  {
   "cell_type": "code",
   "execution_count": 13,
   "id": "5ac03982-5a25-4a9e-ae79-6d7ea2c76b0b",
   "metadata": {},
   "outputs": [],
   "source": [
    "fredhf = fits.open(indir_dict[filter1]+filter_files_hf[filter1])\n",
    "fbluehf = fits.open(indir_dict[filter2]+filter_files_hf[filter2])"
   ]
  },
  {
   "cell_type": "code",
   "execution_count": 14,
   "id": "baf8b8d7-313e-478d-9cfa-0c9149151226",
   "metadata": {},
   "outputs": [
    {
     "name": "stdout",
     "output_type": "stream",
     "text": [
      "Segment00 Segment00\n",
      "Segment01 Segment01\n",
      "Segment02 Segment02\n",
      "Segment03 Segment03\n",
      "Segment04 Segment04\n",
      "Segment05 Segment05\n",
      "Segment06 Segment06\n",
      "Segment07 Segment07\n",
      "Segment17 Segment17\n",
      "Segment16 Segment16\n",
      "Segment15 Segment15\n",
      "Segment14 Segment14\n",
      "Segment13 Segment13\n",
      "Segment12 Segment12\n",
      "Segment11 Segment11\n",
      "Segment10 Segment10\n"
     ]
    }
   ],
   "source": [
    "for seg in range(1,num_segments+1):\n",
    "    print(fredhf[seg].header['EXTNAME'], fbluehf[seg].header['EXTNAME'])\n",
    "    assert (fredhf[seg].header['EXTNAME']==fbluehf[seg].header['EXTNAME'])"
   ]
  },
  {
   "cell_type": "code",
   "execution_count": 13,
   "id": "ab4788eb-e3c0-4ccd-ac6e-73360ed2059d",
   "metadata": {},
   "outputs": [
    {
     "name": "stdout",
     "output_type": "stream",
     "text": [
      "1\n",
      "----------\n",
      "2\n",
      "----------\n",
      "3\n",
      "----------\n",
      "4\n",
      "----------\n",
      "5\n",
      "----------\n",
      "6\n",
      "----------\n",
      "7\n",
      "----------\n",
      "8\n",
      "----------\n",
      "9\n",
      "----------\n",
      "10\n",
      "----------\n",
      "11\n",
      "----------\n",
      "12\n",
      "----------\n",
      "13\n",
      "----------\n",
      "14\n",
      "----------\n",
      "15\n",
      "----------\n",
      "16\n",
      "----------\n"
     ]
    }
   ],
   "source": [
    "new_hdul = fits.HDUList()\n",
    "hdu1 = fits.PrimaryHDU()\n",
    "hdu1.header = fredhf[0].header\n",
    "hdu1.header['PROCESS'] = 'Ratio-Smooth-Master-Flat'\n",
    "hdu1.data = fredhf[0].data\n",
    "new_hdul.append(hdu1)\n",
    "\n",
    "for seg in range(1,num_segments+1):\n",
    "    print(seg)\n",
    "    hdu2 = fits.ImageHDU()\n",
    "    red_seg = fredhf[seg].data\n",
    "    blue_seg = fbluehf[seg].data\n",
    "    \n",
    "    seg_ratio = np.zeros(red_seg.shape)\n",
    "    \n",
    "    seg_ratio[shape0[0]-voverscan:,:] = red_seg[shape0[0]-voverscan:,:]\n",
    "    seg_ratio[:,:hprescan] = red_seg[:,:hprescan]\n",
    "    seg_ratio[:,shape0[1]-hoverscan:] = red_seg[:,shape0[1]-hoverscan:]\n",
    "    \n",
    "    data_red = red_seg[:shape0[0]-voverscan,hprescan:shape0[1]-hoverscan]\n",
    "    data_blue = blue_seg[:shape0[0]-voverscan,hprescan:shape0[1]-hoverscan]\n",
    "    ratio = data_red/data_blue\n",
    "    \n",
    "    seg_ratio[:shape0[0]-voverscan,hprescan:shape0[1]-hoverscan] = ratio\n",
    "    \n",
    "    hdu2.header = fredhf[seg].header\n",
    "    hdu2.data = seg_ratio\n",
    "    new_hdul.append(hdu2)\n",
    "    print('----------')\n",
    "    \n",
    "new_hdul.writeto(output_dir_fits+'ratio_master_flat_median_{0}_{1}_{2}_{3}_renormalised_high_frequency.fits'.format(filter1,date_dict[filter1],filter2,date_dict[filter2]), overwrite=True)"
   ]
  },
  {
   "cell_type": "code",
   "execution_count": null,
   "id": "9b94e4fa-2d18-4058-8aa5-57fab92591f5",
   "metadata": {},
   "outputs": [],
   "source": []
  }
 ],
 "metadata": {
  "kernelspec": {
   "display_name": "lsst_distrib_w_2021_36",
   "language": "python",
   "name": "lsst_distrib_w_2021_36"
  },
  "language_info": {
   "codemirror_mode": {
    "name": "ipython",
    "version": 3
   },
   "file_extension": ".py",
   "mimetype": "text/x-python",
   "name": "python",
   "nbconvert_exporter": "python",
   "pygments_lexer": "ipython3",
   "version": "3.8.5"
  }
 },
 "nbformat": 4,
 "nbformat_minor": 5
}

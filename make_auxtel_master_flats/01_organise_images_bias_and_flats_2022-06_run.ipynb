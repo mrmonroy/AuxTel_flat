{
 "cells": [
  {
   "cell_type": "code",
   "execution_count": 1,
   "id": "b47a4fbc-f20f-40a2-8563-cba432bce903",
   "metadata": {},
   "outputs": [],
   "source": [
    "import numpy as np\n",
    "from astropy.io import fits\n",
    "import os"
   ]
  },
  {
   "cell_type": "code",
   "execution_count": 2,
   "id": "317f1f8a-099a-4548-b948-8998d736618c",
   "metadata": {},
   "outputs": [],
   "source": [
    "image_path = '/sps/lsst/groups/auxtel/data/raw_ncsa/'\n",
    "outdir = '../output_lists/'"
   ]
  },
  {
   "cell_type": "code",
   "execution_count": 3,
   "id": "82de049b-3c70-4d3b-80bf-cc3c7928dc40",
   "metadata": {},
   "outputs": [
    {
     "name": "stdout",
     "output_type": "stream",
     "text": [
      "/sps/lsst/groups/auxtel/data/raw_ncsa/20220608\n"
     ]
    }
   ],
   "source": [
    "obs_date = '20220608'\n",
    "obs_path = os.path.join(image_path,obs_date)\n",
    "print(obs_path)"
   ]
  },
  {
   "cell_type": "code",
   "execution_count": 12,
   "id": "e1e1c50e-ab40-4d72-844c-5c5be9b6d3dd",
   "metadata": {},
   "outputs": [],
   "source": [
    "bias_list = []\n",
    "\n",
    "filters = ['FELH0600','BG40','SDSSr','SDSSg']\n",
    "filter_dict = {'FELH0600':[],'BG40':[],'SDSSr':[],'SDSSg':[]}"
   ]
  },
  {
   "cell_type": "code",
   "execution_count": 13,
   "id": "c2bf8f08-5732-4105-ac03-d736090815e8",
   "metadata": {},
   "outputs": [],
   "source": [
    "save_bias = False\n",
    "save_flat = True"
   ]
  },
  {
   "cell_type": "code",
   "execution_count": 14,
   "id": "91a3d761-817a-4c75-add3-1afe48bb1795",
   "metadata": {},
   "outputs": [],
   "source": [
    "for d in os.listdir(obs_path):\n",
    "    file_path = os.path.join(obs_path,d)\n",
    "    file = os.listdir(file_path)[0]\n",
    "    assert 'fits' in file\n",
    "    f = fits.open(os.path.join(file_path,file))\n",
    "    if f[0].header['IMGTYPE']=='BIAS':\n",
    "        bias_list.append(d)\n",
    "    elif f[0].header['IMGTYPE']=='FLAT':\n",
    "        for filt in filters:\n",
    "            assert 'empty' in f[0].header['GRATING']\n",
    "            if f[0].header['FILTER']==filt:\n",
    "                filter_dict[filt].append(d)\n",
    "    f.close()"
   ]
  },
  {
   "cell_type": "code",
   "execution_count": 15,
   "id": "8cc7165c-d8ed-4039-bf85-25dbce75aa6b",
   "metadata": {},
   "outputs": [
    {
     "data": {
      "text/plain": [
       "['000123',\n",
       " '000112',\n",
       " '000017',\n",
       " '000133',\n",
       " '000016',\n",
       " '000009',\n",
       " '000117',\n",
       " '000114',\n",
       " '000118',\n",
       " '000121',\n",
       " '000007',\n",
       " '000018',\n",
       " '000010',\n",
       " '000024',\n",
       " '000109',\n",
       " '000119',\n",
       " '000134',\n",
       " '000126',\n",
       " '000011',\n",
       " '000127',\n",
       " '000015',\n",
       " '000135',\n",
       " '000108',\n",
       " '000023',\n",
       " '000136',\n",
       " '000131',\n",
       " '000128',\n",
       " '000008',\n",
       " '000122',\n",
       " '000012',\n",
       " '000130',\n",
       " '000022',\n",
       " '000005',\n",
       " '000132',\n",
       " '000124',\n",
       " '000137',\n",
       " '000120',\n",
       " '000013',\n",
       " '000125',\n",
       " '000014',\n",
       " '000113',\n",
       " '000110',\n",
       " '000020',\n",
       " '000001',\n",
       " '000111',\n",
       " '000115',\n",
       " '000019',\n",
       " '000021',\n",
       " '000006',\n",
       " '000129']"
      ]
     },
     "execution_count": 15,
     "metadata": {},
     "output_type": "execute_result"
    }
   ],
   "source": [
    "bias_list"
   ]
  },
  {
   "cell_type": "code",
   "execution_count": 16,
   "id": "19c391b9-2379-43be-b9ac-dfc44e0df22c",
   "metadata": {},
   "outputs": [
    {
     "data": {
      "text/plain": [
       "{'FELH0600': [], 'BG40': [], 'SDSSr': [], 'SDSSg': [], 'empty_1': []}"
      ]
     },
     "execution_count": 16,
     "metadata": {},
     "output_type": "execute_result"
    }
   ],
   "source": [
    "filter_dict"
   ]
  },
  {
   "cell_type": "code",
   "execution_count": 10,
   "id": "34d3cda1-69a7-4e44-98de-0c1d9131e791",
   "metadata": {},
   "outputs": [],
   "source": [
    "if save_bias:\n",
    "    file_bias = open(outdir+'bias_ids_{0}.txt'.format(obs_date),'w')\n",
    "    for b in bias_list:\n",
    "        string = b+'\\n'\n",
    "        file_bias.write(string)\n",
    "    file_bias.close()"
   ]
  },
  {
   "cell_type": "code",
   "execution_count": 11,
   "id": "ddf2dc84-32d9-4c9b-96ce-6b49e747032c",
   "metadata": {},
   "outputs": [],
   "source": [
    "if save_flat:\n",
    "    for filt in filters:\n",
    "        print(filt)\n",
    "        file_flat = open(outdir+'flat_ids_{0}_{1}.txt'.format(obs_date,filt),'w')\n",
    "        for f in filter_dict[filt]:\n",
    "            file_flat.write(f+'\\n')\n",
    "        file_flat.close()"
   ]
  },
  {
   "cell_type": "code",
   "execution_count": null,
   "id": "9935e007-abd9-4336-87ac-0ab9364316f8",
   "metadata": {},
   "outputs": [],
   "source": []
  }
 ],
 "metadata": {
  "kernelspec": {
   "display_name": "lsst_distrib_w_2021_44",
   "language": "python",
   "name": "lsst_distrib_w_2021_44"
  },
  "language_info": {
   "codemirror_mode": {
    "name": "ipython",
    "version": 3
   },
   "file_extension": ".py",
   "mimetype": "text/x-python",
   "name": "python",
   "nbconvert_exporter": "python",
   "pygments_lexer": "ipython3",
   "version": "3.8.5"
  }
 },
 "nbformat": 4,
 "nbformat_minor": 5
}

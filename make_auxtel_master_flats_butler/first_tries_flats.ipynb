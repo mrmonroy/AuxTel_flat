{
 "cells": [
  {
   "cell_type": "code",
   "execution_count": 1,
   "id": "b1e535de-2908-412a-a24c-6e782d6bfb25",
   "metadata": {
    "execution": {
     "iopub.execute_input": "2023-03-21T17:06:35.838767Z",
     "iopub.status.busy": "2023-03-21T17:06:35.838440Z",
     "iopub.status.idle": "2023-03-21T17:06:36.224644Z",
     "shell.execute_reply": "2023-03-21T17:06:36.224014Z",
     "shell.execute_reply.started": "2023-03-21T17:06:35.838752Z"
    }
   },
   "outputs": [
    {
     "name": "stdout",
     "output_type": "stream",
     "text": [
      "eups                  LOCAL:/opt/lsst/software/stack/conda/miniconda3-py38_4.9.2/envs/lsst-scipipe-5.1.0/eups \tsetup\n"
     ]
    }
   ],
   "source": [
    "! eups list -s | grep LOCAL"
   ]
  },
  {
   "cell_type": "code",
   "execution_count": 2,
   "id": "79e37f3f-7c4c-475b-be6e-b362fec89ae7",
   "metadata": {
    "execution": {
     "iopub.execute_input": "2023-03-21T17:06:56.442211Z",
     "iopub.status.busy": "2023-03-21T17:06:56.441643Z",
     "iopub.status.idle": "2023-03-21T17:06:56.670799Z",
     "shell.execute_reply": "2023-03-21T17:06:56.670316Z",
     "shell.execute_reply.started": "2023-03-21T17:06:56.442195Z"
    }
   },
   "outputs": [],
   "source": [
    "import os\n",
    "import matplotlib.pyplot as plt\n",
    "import numpy as np\n",
    "import pandas as pd\n",
    "%matplotlib inline\n",
    "from matplotlib.colors import LogNorm\n",
    "\n",
    "from mpl_toolkits.axes_grid1 import make_axes_locatable\n",
    "\n",
    "import matplotlib.ticker                         # here's where the formatter is\n",
    "from matplotlib.ticker import (MultipleLocator, FormatStrFormatter,\n",
    "                               AutoMinorLocator)\n",
    "\n",
    "from astropy.io import fits"
   ]
  },
  {
   "cell_type": "code",
   "execution_count": 3,
   "id": "7f31ffc8-d8a9-4991-9ca1-72b8c0ec3cf5",
   "metadata": {
    "execution": {
     "iopub.execute_input": "2023-03-21T17:07:07.954103Z",
     "iopub.status.busy": "2023-03-21T17:07:07.953619Z",
     "iopub.status.idle": "2023-03-21T17:07:08.260628Z",
     "shell.execute_reply": "2023-03-21T17:07:08.260099Z",
     "shell.execute_reply.started": "2023-03-21T17:07:07.954087Z"
    }
   },
   "outputs": [],
   "source": [
    "import lsst.afw.display as afwDisplay\n",
    "afwDisplay.setDefaultBackend('matplotlib')"
   ]
  },
  {
   "cell_type": "code",
   "execution_count": 5,
   "id": "2084527b-b71c-4c2e-a5e3-0407898c3a09",
   "metadata": {
    "execution": {
     "iopub.execute_input": "2023-03-21T17:07:37.383576Z",
     "iopub.status.busy": "2023-03-21T17:07:37.383249Z",
     "iopub.status.idle": "2023-03-21T17:07:37.829591Z",
     "shell.execute_reply": "2023-03-21T17:07:37.829099Z",
     "shell.execute_reply.started": "2023-03-21T17:07:37.383561Z"
    }
   },
   "outputs": [],
   "source": [
    "import lsst.daf.butler as dafButler"
   ]
  },
  {
   "cell_type": "code",
   "execution_count": 6,
   "id": "1368b0ce-0840-4ad6-b229-c3c5682020e4",
   "metadata": {
    "execution": {
     "iopub.execute_input": "2023-03-21T17:07:38.067679Z",
     "iopub.status.busy": "2023-03-21T17:07:38.066966Z",
     "iopub.status.idle": "2023-03-21T17:07:41.458825Z",
     "shell.execute_reply": "2023-03-21T17:07:41.458295Z",
     "shell.execute_reply.started": "2023-03-21T17:07:38.067664Z"
    },
    "tags": []
   },
   "outputs": [],
   "source": [
    "repo = \"/sdf/group/rubin/repo/main\"\n",
    "butler = dafButler.Butler(repo)\n",
    "registry = butler.registry"
   ]
  },
  {
   "cell_type": "code",
   "execution_count": 9,
   "id": "761f32f9-d661-415d-852e-dcc4e2bd8cc7",
   "metadata": {
    "execution": {
     "iopub.execute_input": "2023-03-21T17:08:13.693077Z",
     "iopub.status.busy": "2023-03-21T17:08:13.692728Z",
     "iopub.status.idle": "2023-03-21T17:08:13.696941Z",
     "shell.execute_reply": "2023-03-21T17:08:13.696382Z",
     "shell.execute_reply.started": "2023-03-21T17:08:13.693060Z"
    },
    "tags": []
   },
   "outputs": [
    {
     "data": {
      "text/plain": [
       "SqlRegistry(PostgresqlDatabase(\"postgresql://usdf-butler.slac.stanford.edu:5432/lsstdb1#main_20210215\"), DimensionUniverse(3, daf_butler))"
      ]
     },
     "execution_count": 9,
     "metadata": {},
     "output_type": "execute_result"
    }
   ],
   "source": [
    "registry"
   ]
  },
  {
   "cell_type": "code",
   "execution_count": null,
   "id": "8c2fa57d-c2d8-4767-a617-5cd29c263016",
   "metadata": {},
   "outputs": [],
   "source": []
  }
 ],
 "metadata": {
  "kernelspec": {
   "display_name": "LSST",
   "language": "python",
   "name": "lsst"
  },
  "language_info": {
   "codemirror_mode": {
    "name": "ipython",
    "version": 3
   },
   "file_extension": ".py",
   "mimetype": "text/x-python",
   "name": "python",
   "nbconvert_exporter": "python",
   "pygments_lexer": "ipython3",
   "version": "3.10.9"
  }
 },
 "nbformat": 4,
 "nbformat_minor": 5
}
